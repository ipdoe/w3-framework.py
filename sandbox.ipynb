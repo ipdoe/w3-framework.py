{
 "cells": [
  {
   "cell_type": "code",
   "execution_count": 18,
   "metadata": {},
   "outputs": [
    {
     "ename": "FileNotFoundError",
     "evalue": "[Errno 2] No such file or directory: 'dat/doe_rarity.json'",
     "output_type": "error",
     "traceback": [
      "\u001b[1;31m---------------------------------------------------------------------------\u001b[0m",
      "\u001b[1;31mFileNotFoundError\u001b[0m                         Traceback (most recent call last)",
      "Cell \u001b[1;32mIn[18], line 4\u001b[0m\n\u001b[0;32m      1\u001b[0m \u001b[39mfrom\u001b[39;00m \u001b[39mw3f\u001b[39;00m\u001b[39m.\u001b[39;00m\u001b[39mlib\u001b[39;00m \u001b[39mimport\u001b[39;00m doe_nft_data\n\u001b[0;32m      2\u001b[0m \u001b[39mimport\u001b[39;00m \u001b[39mjson\u001b[39;00m\u001b[39m,\u001b[39m \u001b[39mos\u001b[39;00m\n\u001b[1;32m----> 4\u001b[0m nft_metadata \u001b[39m=\u001b[39m doe_nft_data\u001b[39m.\u001b[39;49mMetadata()\n\u001b[0;32m      5\u001b[0m nft_metadata\u001b[39m.\u001b[39mhas_twin(\u001b[39m957\u001b[39m)\n",
      "File \u001b[1;32m~\\Documents\\repos\\w3f\\src\\w3f\\lib\\doe_nft_data.py:34\u001b[0m, in \u001b[0;36mMetadata.__init__\u001b[1;34m(self)\u001b[0m\n\u001b[0;32m     33\u001b[0m \u001b[39mdef\u001b[39;00m \u001b[39m__init__\u001b[39m(\u001b[39mself\u001b[39m) \u001b[39m-\u001b[39m\u001b[39m>\u001b[39m \u001b[39mNone\u001b[39;00m:\n\u001b[1;32m---> 34\u001b[0m     \u001b[39mself\u001b[39m\u001b[39m.\u001b[39mrarity \u001b[39m=\u001b[39m json\u001b[39m.\u001b[39mload(\u001b[39mopen\u001b[39;49m(\u001b[39m\"\u001b[39;49m\u001b[39mdat/doe_rarity.json\u001b[39;49m\u001b[39m\"\u001b[39;49m))\n\u001b[0;32m     35\u001b[0m     \u001b[39mself\u001b[39m\u001b[39m.\u001b[39mtypes \u001b[39m=\u001b[39m json\u001b[39m.\u001b[39mload(\u001b[39mopen\u001b[39m(\u001b[39m\"\u001b[39m\u001b[39mdat/doe_types.json\u001b[39m\u001b[39m\"\u001b[39m))\n",
      "\u001b[1;31mFileNotFoundError\u001b[0m: [Errno 2] No such file or directory: 'dat/doe_rarity.json'"
     ]
    }
   ],
   "source": [
    "from w3f.lib import doe_nft_data\n",
    "import json, os\n",
    "\n",
    "nft_metadata = doe_nft_data.Metadata()\n",
    "nft_metadata.has_twin(957)\n"
   ]
  }
 ],
 "metadata": {
  "kernelspec": {
   "display_name": "Python 3.10.0 ('w3f-FpE3phGD')",
   "language": "python",
   "name": "python3"
  },
  "language_info": {
   "codemirror_mode": {
    "name": "ipython",
    "version": 3
   },
   "file_extension": ".py",
   "mimetype": "text/x-python",
   "name": "python",
   "nbconvert_exporter": "python",
   "pygments_lexer": "ipython3",
   "version": "3.10.0"
  },
  "orig_nbformat": 4,
  "vscode": {
   "interpreter": {
    "hash": "c615061ad293fa34e427038d9a4dbf5581a06626b9d84de4ca6bf33e377bacb3"
   }
  }
 },
 "nbformat": 4,
 "nbformat_minor": 2
}
