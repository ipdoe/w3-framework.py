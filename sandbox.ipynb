{
 "cells": [
  {
   "cell_type": "code",
   "execution_count": 36,
   "metadata": {},
   "outputs": [
    {
     "name": "stdout",
     "output_type": "stream",
     "text": [
      "1 day, 3:55:01.981773\n",
      "2023-04-07 05:28:41.995495+00:00\n"
     ]
    }
   ],
   "source": [
    "from datetime import datetime, timedelta, timezone\n",
    "\n",
    "timestamp = \"2023-04-07T05:28:41.995495+00:00\"\n",
    "# timestamp = \"2022-07-17T13:21:02\"\n",
    "# timestamp.split(\"+\")[0]\n",
    "# d1 = datetime.strptime(timestamp.split(\"+\")[0], \"%Y-%m-%dT%H:%M:%S.%f\")\n",
    "# print(d1)\n",
    "# d2 = datetime.strptime(\"2023-04-07T05:28:41.995496\", \"%Y-%m-%dT%H:%M:%S.%f\")\n",
    "# print(d2)\n",
    "# d2 - d1\n",
    "\n",
    "class Timestamp(datetime):\n",
    "    def __new__(cls, year, month=None, day=None, hour=0, minute=0, second=0, microsecond=0, tzinfo=None):\n",
    "        return super().__new__(cls, year, month, day, hour, minute, second, microsecond, tzinfo)\n",
    "\n",
    "    def make(date_time: str):\n",
    "        dt = datetime.strptime(date_time, \"%Y-%m-%dT%H:%M:%S.%f%z\")\n",
    "        return Timestamp(dt.year, dt.month, dt.day, dt.hour, dt.minute, dt.second, dt.microsecond, dt.tzinfo)\n",
    "\n",
    "    def older_than(self, time_delta = timedelta(hours=1)):\n",
    "        return (self + time_delta) < datetime.now(timezone.utc)\n",
    "\n",
    "ts1 = Timestamp.make(timestamp)\n",
    "ts2 = datetime.now(timezone.utc)\n",
    "ts2 - ts1\n",
    "\n",
    "print(ts2 - ts1)\n",
    "ts1.older_than()\n",
    "datetime.now(timezone.utc)\n",
    "print(ts1)"
   ]
  },
  {
   "cell_type": "code",
   "execution_count": 31,
   "metadata": {},
   "outputs": [
    {
     "name": "stdout",
     "output_type": "stream",
     "text": [
      "27137839\n"
     ]
    }
   ],
   "source": [
    "from w3f.lib import web3\n",
    "\n",
    "w3_bsc = web3.AnkrBsc()\n",
    "print(w3_bsc.w3.eth.block_number)\n"
   ]
  },
  {
   "cell_type": "code",
   "execution_count": 4,
   "metadata": {},
   "outputs": [
    {
     "data": {
      "text/plain": [
       "Decimal('1000000000')"
      ]
     },
     "execution_count": 4,
     "metadata": {},
     "output_type": "execute_result"
    }
   ],
   "source": [
    "from w3f.lib.contracts import kdoe_token\n",
    "\n",
    "kdoe_token.get_bsc_balance(w3_bsc.w3, \"0x0DF9dF231Ab1457fB3c259E13ae5408931BcbE2c\")"
   ]
  },
  {
   "cell_type": "code",
   "execution_count": 1,
   "metadata": {},
   "outputs": [
    {
     "data": {
      "text/plain": [
       "'Mainnet: 79,584.76 KDOE\\nBSC: 1,000,000,000.00 KDOE\\nNFT Count: 0\\nNFTs estimate: 0.0000 ETH\\n'"
      ]
     },
     "execution_count": 1,
     "metadata": {},
     "output_type": "execute_result"
    }
   ],
   "source": [
    "from w3f.lib import bots\n",
    "\n",
    "services = bots.Services()\n",
    "\n",
    "services.get_wealth(\"0x0DF9dF231Ab1457fB3c259E13ae5408931BcbE2c\").to_str()\n",
    "# kdoe_token.get_bsc_balance(services.w3_bsc.w3, \"0x0DF9dF231Ab1457fB3c259E13ae5408931BcbE2c\")"
   ]
  }
 ],
 "metadata": {
  "kernelspec": {
   "display_name": "w3f-WQD1s4Uz",
   "language": "python",
   "name": "python3"
  },
  "language_info": {
   "codemirror_mode": {
    "name": "ipython",
    "version": 3
   },
   "file_extension": ".py",
   "mimetype": "text/x-python",
   "name": "python",
   "nbconvert_exporter": "python",
   "pygments_lexer": "ipython3",
   "version": "3.10.0"
  },
  "orig_nbformat": 4,
  "vscode": {
   "interpreter": {
    "hash": "e0595ad8a118b7b6f21f5fbff559a1017410532f7d749e343975f4651b2f268f"
   }
  }
 },
 "nbformat": 4,
 "nbformat_minor": 2
}
