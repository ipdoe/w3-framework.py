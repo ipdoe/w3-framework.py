{
 "cells": [
  {
   "cell_type": "code",
   "execution_count": 1,
   "metadata": {},
   "outputs": [
    {
     "name": "stdout",
     "output_type": "stream",
     "text": [
      "Connected to Web3: True\n"
     ]
    },
    {
     "data": {
      "text/plain": [
       "1584359609"
      ]
     },
     "execution_count": 1,
     "metadata": {},
     "output_type": "execute_result"
    }
   ],
   "source": [
    "import json, os\n",
    "from web3 import Web3\n",
    "from w3f.lib.contracts.staking import doe_doe_staking_contract\n",
    "\n",
    "import w3f.hidden_details as hd\n",
    "\n",
    "w3 = Web3(Web3.HTTPProvider(hd.eth_mainnet))\n",
    "\n",
    "# w3_arb = Web3(Web3.HTTPProvider(hd.arbirum_mainnet))\n",
    "print(f\"Connected to Web3: {w3.isConnected()}\")\n",
    "block = w3.eth.get_block(9682416)\n",
    "block.timestamp\n",
    "\n",
    "# doe_doe_staking_contract.all_doe_stake_transactions()\n"
   ]
  },
  {
   "cell_type": "code",
   "execution_count": 6,
   "metadata": {},
   "outputs": [
    {
     "data": {
      "text/plain": [
       "15436332"
      ]
     },
     "execution_count": 6,
     "metadata": {},
     "output_type": "execute_result"
    }
   ],
   "source": [
    "from w3f.lib import my_web3\n",
    "\n",
    "# 1.9.2022 1661990400, block 15436332\n",
    "mw3 = my_web3.W3(w3)\n",
    "mw3.get_latest_block_timestamp()\n",
    "mw3.get_block_by_timestamp(1661990400)"
   ]
  },
  {
   "cell_type": "code",
   "execution_count": 2,
   "metadata": {},
   "outputs": [
    {
     "data": {
      "text/plain": [
       "['0x3513C78125aa1B41020125164447954aDe2DB769',\n",
       " '0xA5E121692De4a9779a0eF3CE3a30aF6CA11aA4Ba',\n",
       " '0xf6b77197E8DC05463F20c6EAe5AAC0B45076C929',\n",
       " '0xF4Ba9aC8723339fE6E0Eb7F02e85047759491A3A',\n",
       " '0x577fc12337081077D199bac075Aca6c26A9F4121',\n",
       " '0x5dA93cF2d5595Dd68Daed256DFbFF62c7ebBB298',\n",
       " '0xAedFd8382166aC7acEF811948df35132af3C1B69',\n",
       " '0x8B3f14F0582FbF275BE87d265C931B4dfD5F13B7',\n",
       " '0xBC8ef753BAadeB6769B964aE802831E791858b8f',\n",
       " '0x449D2d69e6E700A42CF3a5A850FbA271445E9011',\n",
       " '0x9B5159144F33eA29Cc8c00FD25C21E106e94B351',\n",
       " '0xa8a7b3B92E08193f06fa0a95DA8c04139fB530dc',\n",
       " '0xC22647a3B91b20a8664A5d4b0a128B7C1DDa514a',\n",
       " '0xB09833b4aceEE074748321A5e3e4389D206d2625',\n",
       " '0xB7aF874Ad91fE007deD0F2Ba23DA83be8d2EAc6e',\n",
       " '0x7c52Dc565098feD0C6403aca885A95d454D0371E',\n",
       " '0xCC82988abF2F7B6EfDCC588c8870600138FFbb97',\n",
       " '0x86147400F9bf11EFdC843Bbb23F85708ef298d52',\n",
       " '0x56eE9CcD3Efb23FD6a0a22d9e84Aa84a62E9a134',\n",
       " '0xABcb2B138898Ee217b1b14A07eaD0c5ceE27A963',\n",
       " '0xB61Cd95aA3a96B19Ea6c89e706B1B9E8fD2758d6',\n",
       " '0x28581D2854fBc981DBC9eA109105D73A70c527E7',\n",
       " '0x1Db35D798491A7A0fF45A6eCaC1fd569Cc955081',\n",
       " '0xF085Bc8b5e26A9d78d263C2c6516fE522D24e279',\n",
       " '0x7C71Cb6524d4e2F0813c4B7Ea71613734fBadd39',\n",
       " '0x7d952E716ac6D0f84dccaA33f9b2953F0Ebbc0Cd',\n",
       " '0xCF342faBCC25f03123650E219C53553767751467',\n",
       " '0x056cce1Cd793dD4FC8E89a98A6fFd5F56A59268d',\n",
       " '0x161C97a08A8bD4c21F36f5F4e0034dfe57b77DeC',\n",
       " '0xF9c99e2557DDD6971563ff317cbb39319A2EF8f5',\n",
       " '0x780A0aCf9B97CE91438544E4396783176C92bb93',\n",
       " '0x2355e096546b537147516a9cfBE4B53eb8934c72',\n",
       " '0x8EFE30C78018ecffD2570A507A450C538E094258',\n",
       " '0x8e40d9a0eDb52E3Dc14707AA7afb09e2011DFABe',\n",
       " '0xa7D76b420dAb29Ba65048DCb7C4c4d4cc5833651',\n",
       " '0xf5Fe97134A3277a3572F04BBaC8Ba615a4E740AC',\n",
       " '0x8a466E1849990f65E13d9Ce76869d5898Fdc096A',\n",
       " '0x5aFA7A0C5E28894AC50711A8c8a4d8c48360cC5c',\n",
       " '0x508a25992F8DEF606aE991142EaD5E8D6Ef8A27B',\n",
       " '0xA7f532a90897a980d6a1Db0ADc6522Fa683B1a37',\n",
       " '0x956080e03103bEe5fc1f19FE8945aa830d5780d5',\n",
       " '0xEA1204bDc5182D26b804B70a8570d40f07e98b36',\n",
       " '0x0b83c75e3Ed1661391097FAbFC485e94DC500cC1',\n",
       " '0x241e99A3b9bc97696DEe085A5F04eAbA3AcD172D',\n",
       " '0x47FffceB02f40350AaD73F1Ae86b5d8010A8dBFf',\n",
       " '0x8279622A3ff55Ee343D32b007918945aAaF50F15',\n",
       " '0xBD30d74A3F40f65a56b83e83fd4c4d5D691d8D89',\n",
       " '0xc8D96829c576E5A73191f38EA6eF9af9c7768F12',\n",
       " '0x5112F325Fe92492f7dF44637990f4237C68928E4',\n",
       " '0x8FFc9eC3C1e6c5074B0707e2D43b2c8C14a79223',\n",
       " '0x9eAad1bF68E5717336E306ddc63A4Ed2C2bAD8b4',\n",
       " '0x75Ce8Bef2E3Eca07E06aD29ABfe44f07af3e9AAB',\n",
       " '0xF929583e471f3ac0Dc6D04B963677e653afBa52d',\n",
       " '0x3818587DB200e3e43992567a96ADb13733f006Ee',\n",
       " '0x60b5F1E235b92147139782Cd4Dfa41C2e0dBcd64',\n",
       " '0x3aB49eEBDA3C1405a447A50d779D52f7f8c264bF',\n",
       " '0x37C89C295Eab5f8CCD0Bb95F1A5B90ff5e46be12',\n",
       " '0x75f9d0e92D9d316cBFD743108e8fe4d8ae1dce90',\n",
       " '0x4c6D1bB125cFE2139d9229226a3F9Fd938948aE4',\n",
       " '0x3d5d125EEb33Ed65e313F60c2Fcd5340dc1ddC31',\n",
       " '0xba1898f669272592D21ccaD557Aff0FB07Be76dE',\n",
       " '0xe6Eba081EfdD3c1c25565209124d779765fE9CE6',\n",
       " '0x9228a88B0cEbDbb01702988b9ADE556C127478c6',\n",
       " '0xd935ef8775c04e7E327f0b65d5AB255149d145C4',\n",
       " '0x23591A15719c682a9f1461528774E17d5d870065',\n",
       " '0xDdb3C9CC98e76FF596ff0bA5D0a2Afc0B31DE335',\n",
       " '0xbf3E566A22dA91ee90D007d857585dC0CB8aC6bE',\n",
       " '0x80F195C3b804199B09d7CD52106EB7dd65063458',\n",
       " '0x5eDa3B318B6587548359Ec46962f009b69Bf9366',\n",
       " '0x1B44Ab3B55168Db25615759D74C44d0365026394',\n",
       " '0xBCBa59d23237B5C8a4cfD60311b1aadA14f3fF86',\n",
       " '0xf3E06A8234F4cAF72d25F6ABA016488a4dEC64f9',\n",
       " '0x19205D55E517e99Ede5EAd69A14D20c8C13c54F7',\n",
       " '0x0e31447a47be49D4E0ea1E3751DEC649b6594Da3',\n",
       " '0x76d7fFE66A3c82Db632eAC46Ae99786d9cE2F8ef',\n",
       " '0x8B39839fbc26CB0275a0964089d3499f51f97662',\n",
       " '0xB0F161160E2766f6D042a47521e5b95A249f2293',\n",
       " '0x9f68bc3DF981779BAb116d5C69F923EE8B40873B',\n",
       " '0x9321EE3EE6114404040b4c6Ac0BDe6f336B39A01',\n",
       " '0x89a7206c6E276Ba773aB6715082Dce52c4C94afC',\n",
       " '0x5736c1BaA5aa851e7109FEeA1CA4A83e92d28162',\n",
       " '0xfA44a760Bc168D5B6b579310d76C66Df043ce938',\n",
       " '0x7766279a4c72Feb7b0d5169eD5CE5aa4aD8A08E1',\n",
       " '0x9A9FCdE745fA1Fdb7C0D591700c17CFdb52A710d',\n",
       " '0x3f8168e1618F9A3c43a90E1BBb1ddae42cCc69fC',\n",
       " '0x43c0bF82a29C3F92FfAB3A65CCC32430568c414D',\n",
       " '0xC230d8553FC8D5C17A7FC206290acc9ABc6eBdE5',\n",
       " '0xEc5C56dDD95695c899535AaEF0b69418CaC34D4D',\n",
       " '0xbeCFAEc71C28AC8b9b58A0AB2a31C632A769c4da',\n",
       " '0x257863Ca18C5E26Add0c4Bf0879743B86A9303Dc',\n",
       " '0xE14694f3943d0Af61644D850D1cacfC876d66D92',\n",
       " '0x89DCa49d64107586fA3953EEEe7C278f355dD845',\n",
       " '0xB674a1ceF180Ec293152Be98b1FEf0dAde8E082a',\n",
       " '0xff4056771d9E12467Bf1addc780516DD8423DcE6',\n",
       " '0x9B8e97305a8b6A54625EaC3DD3324a73fd820fa2',\n",
       " '0x8c9807F29B761e9Ddd5b83f9E6cBEfA286db9304',\n",
       " '0x39074B25E71a26edD4Ba72c8625A06E6418aa6B1',\n",
       " '0x92E0B3459Ff47b6D0dA2d48673Ef9fF471dC0A00',\n",
       " '0x0DFba27C25f1B15C574888070bDEC57dd0CF3f7E',\n",
       " '0x1F39Dd5dC29b11353ecEe52C365F0FA8FCf4F609',\n",
       " '0xC7527785C385B69B5fcA4F2Bc37fEc0209C7Da53',\n",
       " '0x0041F4a5a908BcfDf0807B422a601D5fa1dac4C9',\n",
       " '0x12c5FC7Ff09CCe23ef93129CE30faA0A7839D2E1',\n",
       " '0xA555ca390237f6a237DA34aD40140a73e090764d',\n",
       " '0xa7696837073aC03690D3b64Be94787cD52B2B95D',\n",
       " '0x630f800374E944cDd5A39DF5b73cD1F98Bb85382',\n",
       " '0xD438ABe06d90864A5553b414a5FB54b29229b3Fd',\n",
       " '0x94240D049f6c58fD1108D2e113752c0D0fbb249a',\n",
       " '0x77F11Abdf8041B9431D65fe2d66475f9A46b2daA',\n",
       " '0x4583B3E3401eaa2e5d8Fa4Fef1ecDc5e38a8acc5',\n",
       " '0x3Da6Ba20ffcC381fFc88CA2729e89Cd4C9d84628',\n",
       " '0xDb28D150129413FB5cf3B3589364A24a522f3a82',\n",
       " '0xA30Ee66154Af76529a193c6d64fEA7CF8bdD3831',\n",
       " '0x38AC0F737C7e160867Ba4FDD3F5852604e5Fe5e9',\n",
       " '0x85731Dac8B083B60FB29CF5D45A438f1eEEe8AC2',\n",
       " '0x0F643BE05a75b09837C169094d2aDFB9860Be5F8',\n",
       " '0xd6387AcAc2F893dC6099952E08ba69F4fd71Dd10',\n",
       " '0x76A8d74Ef98F23eA7Fd03d4EB200fEfbea424a17',\n",
       " '0xeC296244aa735f93Fd007FB96f1C917bDa9b09D9',\n",
       " '0x703B66498A5AdaDeF5eFF08D89a1558918B62278',\n",
       " '0x41606D5abB38441D6E1EbEfF46889F00b2004526',\n",
       " '0x295CAB3626a7a900C9B3E2ee4f9B085cFE106643',\n",
       " '0xB85002869b1525Ae9B025E6e591E331A6F00B260',\n",
       " '0xA531317bBb5bdB0E4797032c4322A75cB3fF6f54',\n",
       " '0x00F179Cfc6793A9FEdD590c82653728711337a82',\n",
       " '0xE289BdB978F732458721875D727E7Ba838e5CE6B',\n",
       " '0x32F4EaB2b3dA388a1f9Bef49B0f82753E4Dd4c21',\n",
       " '0x0c42582574f8c7caEcCB70A3B9c8D71F9f4b114B',\n",
       " '0x411AC5132B65b90cfe316D08465ba8Bbb65aaFDD',\n",
       " '0xa809Fa8E5caBaaa261e10a6D8BBBf72751f53b9B',\n",
       " '0xDe2F170C5587143f878885F93e0588aB4cC37d4b',\n",
       " '0x1f72f73124B809d58e60ef7e47826814D2E3c475',\n",
       " '0x2812D19d57c876c64DFCEE79b5fB1C9EF800D003',\n",
       " '0xDb25dA406a5dc4da285DBb3eE5Ffc04759A4b972',\n",
       " '0xbf5C27375E7FbfD2Bc98cFE14A436b01F9e2d622',\n",
       " '0x93F98B8B8F9c66E541958d109Cbd5fD7AC66A558',\n",
       " '0x3d6381A18F660146F89633115d2941d80B707d50',\n",
       " '0x42D3A127CB4EAce4D0D687B33C4Ca013FD087ae7',\n",
       " '0xd346b6FdA76C938B360b976774214AcD6a715C5F',\n",
       " '0xf8Ab55dE5E35C818706b6b4E9EAb556320CCae7B',\n",
       " '0x92559A085297420cd594627a79F2761d4E7fC441',\n",
       " '0xF2E4eC0fe5D26F3D54eE5F2bD3f6b13862C8eBf3',\n",
       " '0xc5a544D800251bAfe45fD40e5960a40566420D63',\n",
       " '0x2eCf8789f36ed99463C04F56bFA6bab9c26D340D',\n",
       " '0xB612a527C3E0E7F2fc6645501F30720d53230970',\n",
       " '0x86286F8c9C88A366eaf71027F0868039490282f8',\n",
       " '0x217b770F5122a7C37D05A374BcC6489a07c2a398',\n",
       " '0x30e95A7840ad37feEaE5880E7E0202a8f0eaE3A5',\n",
       " '0xF232C00Ef348EBc50f3A795514B2902dc6dea129',\n",
       " '0xd918F8de343Ee946A11930BBF349C0B0d800BD87',\n",
       " '0x644B9c367eC6557173b9aBFa16762FdaCbBbDd0B',\n",
       " '0x2B40A73aA2d82585676439dFBBCE1E9Ed9Fa2a8B',\n",
       " '0xe21Ea6f43fbC2905FbB61952E723b6237760A686',\n",
       " '0xC2453225aE6Adeee480c62A35675531747cE1BF0',\n",
       " '0x1cF6Dc00BB5DCd8aA5307E14b5E6540EF9e4d7c0',\n",
       " '0x1e9622ed5101a356D354BBB4315c313e25b092Bb',\n",
       " '0x83372C42a2d0BBA715cb2931D6A1a550B7deb312',\n",
       " '0x2d71eC856163Cfa5290a3ab89c14eB72B88eC734',\n",
       " '0xB1DDbDe4d46F80E6A54621b599E1052D33273Db4',\n",
       " '0xf951Ac82A72ac85Cac01EBf225F29BDE3a85491D',\n",
       " '0x0940BECf36517A89f3e0223bB45f430F00B77cEA',\n",
       " '0x97880F6Bb4751F9e25fdD3e55D109331D452f21f',\n",
       " '0x8E1E4E8BAA16250C272162B08d8D2d5d49b08C0D',\n",
       " '0x7fB68d806fA973D699FE262b60393E9Fe84211Eb',\n",
       " '0x6d17997483236CAD92a834c34378b8a7038061d1',\n",
       " '0x81F10d99464d604EA1E9242DC71733a506E95b4e',\n",
       " '0x8BFfDbdC8f134AC2950b373e8819bDCbfB8Bf78E',\n",
       " '0xFEC50EAaf09D7bC54420A2d1AeB505e25c1D450f',\n",
       " '0x71486C0711393D133507AD4b22a41CABFB82aFB0',\n",
       " '0xcC1a5d89E0Ce6F04719B00bf668549808CD75ef7',\n",
       " '0x0DA600612B6F980Dc50FedBdea71802016390096',\n",
       " '0xd4068A8aFE7ae3F866431f9Ac9a0833b9865649a',\n",
       " '0x0BaC235E048c93FE836E7B436e9199eD0E0767c7',\n",
       " '0x9e59405335547924Ac0c86f30080342CBccd8dEB',\n",
       " '0x69DD0aF6171A93445B4781Cb5adE2C7f03210ED1',\n",
       " '0x53B794C3BFf71445E673231281cCf67315eE2169',\n",
       " '0xd9D25FF1ea79ad145968F6303E9a2b2056958910',\n",
       " '0x042FD8Fb82c68CB442C324390C5605C3C5a887a6',\n",
       " '0x4Ef73BEafB38a367C085799BB22dC5F11de30269',\n",
       " '0x4d8f8D085AD9A4A548231d8737b2642BACa17686',\n",
       " '0x14b85F7FFDd928660835cD54081f6504E5BB4209',\n",
       " '0x72AADa21B77160cafA197f84982b5D362E7Fe4d3',\n",
       " '0x218100884EF5410152fB9ca11c70B214826c2bB4',\n",
       " '0x6a9dae150Fe61bfe775D8C91925Ee36C3852Ac5F',\n",
       " '0xCA57bAf1C0548435B572b1D40E07cf0173a75b82',\n",
       " '0xAFd7AC6495aA20d1CEcE28D8E6f8f44fc3dAe964',\n",
       " '0x1A0DF02fdB7B11aB37462294819079Cd223A6f36',\n",
       " '0xa3821808e8bF53fdc8abA13De6cfF436BAE31fb2',\n",
       " '0x303e0a072583Ca1d55330949e35eA92D8057482B',\n",
       " '0xf1a684c300D5F4c86ECd98219A9FdD2cf733eECD',\n",
       " '0xE4a18c6B576A871FEfC0Ef213F07C65bAABc73f1',\n",
       " '0x2fcB45C294731Ea7EA1F615ffC280CECe30c16cC',\n",
       " '0x18842D30863C114E4C6986db4E42FD910D68E034',\n",
       " '0x6e25e932240078776394407C8b8beDB1840f9B87',\n",
       " '0xF4Bb2deD12C82c9126b038ea422f86bdeFefFeC7',\n",
       " '0xF610Ec9C819E4e3C5D5D99a84DCc267BE76b73ed',\n",
       " '0xb3373261540D806437918c038f061Ad2Bd33e3c1',\n",
       " '0x1c68dB035f5BBd3F4EE812693726bbb033A786e7',\n",
       " '0x4BD708cA059bfEb847c75dE6a726a5Aecc5034Fd',\n",
       " '0x07ebE689fB350742F11DAA6ad671ee0fDdd61D9B',\n",
       " '0xB764f10b1F03633f61f8320313E3B6ffE7b272ab',\n",
       " '0x8f401c81590140e24E9e77C894027F20C1655854',\n",
       " '0x394be91861BD47a44ac83a6AC3B56Ae3f4b667CE',\n",
       " '0x425BAE16dD3Ac62CBb14238A41939589cfBcd294',\n",
       " '0xA10e0244259cBA64159510E9058f49976618a5Be',\n",
       " '0x79EF5BBb9E8BB54E574Ff56c29aB5315b1Be2994',\n",
       " '0xE2A11785FfF8b550CcEDD896432b392B3B0215C5',\n",
       " '0x2f804b4663883bf008D6D040Dc43772ABD7a4365',\n",
       " '0x576bAeF7807f94f369A298dd1F778324f9E5fA54',\n",
       " '0xC575B5e473EF412c78DEacf11AD57E33e5c2639b',\n",
       " '0xC1FDc9bee7D8919037b6142Aaf0DE42C446682CE',\n",
       " '0x0cE8E044FCA2c4B79f18F8734b9a0821E1225d50',\n",
       " '0xCf6EFAF6064E49B084BF0AfEcF6ad8442606b707',\n",
       " '0xD0A6b11cFCfF888ec725d641038090F4Fa0C32D2',\n",
       " '0x2E3e1903a0020A96E001DB5A2772575DD4d2DCD1',\n",
       " '0x60EbC6249C1405856dd8098718fbBA28ED0cF78d',\n",
       " '0x77aeAEF320a74bA6Fd827844165F1c22A33b0ed4',\n",
       " '0x3488FA6484aF1fA1349893AbF3d04070e0e311A2',\n",
       " '0x7717a9EC35c24A20fAAa38760c6f29133AeB8874',\n",
       " '0xF354fC008fc380fD8b919394A4CC25926e0053c0',\n",
       " '0xC40d9C885C9b732884135869ebb702d48a43F895',\n",
       " '0x66FA54BEE622F41D627C630309D8b3e9570E3f3a']"
      ]
     },
     "execution_count": 2,
     "metadata": {},
     "output_type": "execute_result"
    }
   ],
   "source": [
    "# 1.9.2022 1661990400, block 15436332\n",
    "stakers = doe_doe_staking_contract.dump_all_stakers_since(hd.etherscan_key, 15436332)\n",
    "stakers"
   ]
  },
  {
   "cell_type": "code",
   "execution_count": 3,
   "metadata": {},
   "outputs": [
    {
     "data": {
      "text/plain": [
       "222"
      ]
     },
     "execution_count": 3,
     "metadata": {},
     "output_type": "execute_result"
    }
   ],
   "source": [
    "len(stakers)\n",
    "doe_doe_staking_contract.get_sorted_balances(stakers)"
   ]
  },
  {
   "cell_type": "code",
   "execution_count": 15,
   "metadata": {},
   "outputs": [
    {
     "data": {
      "text/plain": [
       "'2022-09-17 22:03:35'"
      ]
     },
     "execution_count": 15,
     "metadata": {},
     "output_type": "execute_result"
    }
   ],
   "source": [
    "import datetime\n",
    "\n",
    "str(datetime.datetime.fromtimestamp(w3.eth.get_block(15555555).timestamp))"
   ]
  },
  {
   "cell_type": "code",
   "execution_count": 21,
   "metadata": {},
   "outputs": [
    {
     "name": "stdout",
     "output_type": "stream",
     "text": [
      "1670671617.05448\n",
      "16153974\n",
      "1670671331\n"
     ]
    }
   ],
   "source": [
    "from datetime import datetime\n",
    "\n",
    "\n",
    "def getLatestBlockTimestamp(w3):\n",
    "    latestBlock = w3.eth.get_block('latest')\n",
    "    latestBlockTimestamp = latestBlock.timestamp\n",
    "\n",
    "    return latestBlockTimestamp\n",
    "\n",
    "def getAverageBlockTime(w3):\n",
    "    currentBlock = w3.eth.get_block('latest')\n",
    "    thenBlock = w3.eth.get_block(w3.eth.block_number - 500)\n",
    "\n",
    "    return float((currentBlock.timestamp - thenBlock.timestamp) / 500.0)\n",
    "\n",
    "\n",
    "def getBlockByTimestamp(w3, timestamp):\n",
    "    latestBlockTimestamp = getLatestBlockTimestamp(w3)\n",
    "    average_time = latestBlockTimestamp - timestamp\n",
    "    if average_time < 0: raise ValueError('timestamp given by you exceed current block timestamp!')\n",
    "    average_block = average_time / getAverageBlockTime(w3)\n",
    "\n",
    "    return int(w3.eth.block_number - average_block)\n",
    "\n",
    "hours_24_ago = datetime.utcnow().timestamp() - 24 * 60 * 60\n",
    "print(hours_24_ago) #1644892963.530618\n",
    "\n",
    "block_24_ago = getBlockByTimestamp(w3, hours_24_ago)\n",
    "print(block_24_ago) # Block: 15265950\n",
    "\n",
    "blockInfo = w3.eth.get_block(block_24_ago)\n",
    "print(blockInfo.timestamp) #1644893303"
   ]
  },
  {
   "cell_type": "code",
   "execution_count": 26,
   "metadata": {},
   "outputs": [
    {
     "data": {
      "text/plain": [
       "16161464"
      ]
     },
     "execution_count": 26,
     "metadata": {},
     "output_type": "execute_result"
    }
   ],
   "source": [
    "w3.eth.block_number"
   ]
  }
 ],
 "metadata": {
  "kernelspec": {
   "display_name": "w3f-WQD1s4Uz",
   "language": "python",
   "name": "python3"
  },
  "language_info": {
   "codemirror_mode": {
    "name": "ipython",
    "version": 3
   },
   "file_extension": ".py",
   "mimetype": "text/x-python",
   "name": "python",
   "nbconvert_exporter": "python",
   "pygments_lexer": "ipython3",
   "version": "3.10.0"
  },
  "orig_nbformat": 4,
  "vscode": {
   "interpreter": {
    "hash": "e0595ad8a118b7b6f21f5fbff559a1017410532f7d749e343975f4651b2f268f"
   }
  }
 },
 "nbformat": 4,
 "nbformat_minor": 2
}
