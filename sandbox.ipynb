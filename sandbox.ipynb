{
 "cells": [
  {
   "cell_type": "code",
   "execution_count": 4,
   "metadata": {},
   "outputs": [
    {
     "data": {
      "text/plain": [
       "60"
      ]
     },
     "execution_count": 4,
     "metadata": {},
     "output_type": "execute_result"
    }
   ],
   "source": [
    "from w3f.lib import doe_nft_data\n",
    "\n",
    "metadata = doe_nft_data.Metadata()\n",
    "metadata.get_rarity(9969)"
   ]
  },
  {
   "cell_type": "code",
   "execution_count": 12,
   "metadata": {},
   "outputs": [
    {
     "data": {
      "text/plain": [
       "60"
      ]
     },
     "execution_count": 12,
     "metadata": {},
     "output_type": "execute_result"
    }
   ],
   "source": [
    "import json, os, requests,  pathlib\n",
    "dat_path = pathlib.Path(\"src/w3f/dat\")\n",
    "with open(dat_path / \"doe_rarity.json\") as rarity:\n",
    "    with open(dat_path / \"doe_types.json\") as types:\n",
    "        srarity = json.load(rarity)\n",
    "        stypes = json.load(types)\n",
    "srarity[9968]['rank']"
   ]
  },
  {
   "cell_type": "code",
   "execution_count": 17,
   "metadata": {},
   "outputs": [
    {
     "name": "stdout",
     "output_type": "stream",
     "text": [
      "Connected to Web3: True\n"
     ]
    }
   ],
   "source": [
    "import json, os\n",
    "from web3 import Web3\n",
    "from w3f.lib.contracts.staking import doe_doe_staking_contract\n",
    "\n",
    "import w3f.hidden_details as hd\n",
    "\n",
    "w3 = Web3(Web3.HTTPProvider(hd.eth_mainnet))\n",
    "\n",
    "# w3_arb = Web3(Web3.HTTPProvider(hd.arbirum_mainnet))\n",
    "print(f\"Connected to Web3: {w3.isConnected()}\")\n",
    "current_block = w3.eth.block_number\n",
    "\n",
    "# doe_doe_staking_contract.all_doe_stake_transactions()\n"
   ]
  },
  {
   "cell_type": "code",
   "execution_count": 18,
   "metadata": {},
   "outputs": [
    {
     "data": {
      "text/plain": [
       "16336194"
      ]
     },
     "execution_count": 18,
     "metadata": {},
     "output_type": "execute_result"
    }
   ],
   "source": [
    "from w3f.lib import my_web3\n",
    "current_block"
   ]
  },
  {
   "cell_type": "code",
   "execution_count": 12,
   "metadata": {},
   "outputs": [
    {
     "data": {
      "text/plain": [
       "265"
      ]
     },
     "execution_count": 12,
     "metadata": {},
     "output_type": "execute_result"
    }
   ],
   "source": [
    "# 1.9.2022 1661990400, block 15436332\n",
    "stakers = doe_doe_staking_contract.dump_all_stakers_since(hd.etherscan_key, 15436332)\n",
    "len(stakers)"
   ]
  },
  {
   "cell_type": "code",
   "execution_count": 19,
   "metadata": {},
   "outputs": [
    {
     "ename": "TypeError",
     "evalue": "get_balance() takes 2 positional arguments but 3 were given",
     "output_type": "error",
     "traceback": [
      "\u001b[1;31m---------------------------------------------------------------------------\u001b[0m",
      "\u001b[1;31mTypeError\u001b[0m                                 Traceback (most recent call last)",
      "Cell \u001b[1;32mIn[19], line 2\u001b[0m\n\u001b[0;32m      1\u001b[0m w3\u001b[39m.\u001b[39meth\u001b[39m.\u001b[39mcontract()\n\u001b[1;32m----> 2\u001b[0m doe_doe_staking_contract\u001b[39m.\u001b[39;49mget_balance(w3, \u001b[39m\"\u001b[39;49m\u001b[39m0x5dA93cF2d5595Dd68Daed256DFbFF62c7ebBB298\u001b[39;49m\u001b[39m\"\u001b[39;49m, \u001b[39m16326137\u001b[39;49m)\n",
      "\u001b[1;31mTypeError\u001b[0m: get_balance() takes 2 positional arguments but 3 were given"
     ]
    }
   ],
   "source": [
    "w3.eth.contract()\n",
    "doe_doe_staking_contract.get_balance(w3, \"0x5dA93cF2d5595Dd68Daed256DFbFF62c7ebBB298\", 16326137)"
   ]
  },
  {
   "cell_type": "code",
   "execution_count": 3,
   "metadata": {},
   "outputs": [
    {
     "data": {
      "text/plain": [
       "222"
      ]
     },
     "execution_count": 3,
     "metadata": {},
     "output_type": "execute_result"
    }
   ],
   "source": [
    "len(stakers)\n",
    "doe_doe_staking_contract.get_sorted_balances(stakers)"
   ]
  },
  {
   "cell_type": "code",
   "execution_count": 15,
   "metadata": {},
   "outputs": [
    {
     "data": {
      "text/plain": [
       "'2022-09-17 22:03:35'"
      ]
     },
     "execution_count": 15,
     "metadata": {},
     "output_type": "execute_result"
    }
   ],
   "source": [
    "import datetime\n",
    "\n",
    "str(datetime.datetime.fromtimestamp(w3.eth.get_block(15555555).timestamp))"
   ]
  },
  {
   "cell_type": "code",
   "execution_count": 21,
   "metadata": {},
   "outputs": [
    {
     "name": "stdout",
     "output_type": "stream",
     "text": [
      "1670671617.05448\n",
      "16153974\n",
      "1670671331\n"
     ]
    }
   ],
   "source": [
    "from datetime import datetime\n",
    "\n",
    "\n",
    "def getLatestBlockTimestamp(w3):\n",
    "    latestBlock = w3.eth.get_block('latest')\n",
    "    latestBlockTimestamp = latestBlock.timestamp\n",
    "\n",
    "    return latestBlockTimestamp\n",
    "\n",
    "def getAverageBlockTime(w3):\n",
    "    currentBlock = w3.eth.get_block('latest')\n",
    "    thenBlock = w3.eth.get_block(w3.eth.block_number - 500)\n",
    "\n",
    "    return float((currentBlock.timestamp - thenBlock.timestamp) / 500.0)\n",
    "\n",
    "\n",
    "def getBlockByTimestamp(w3, timestamp):\n",
    "    latestBlockTimestamp = getLatestBlockTimestamp(w3)\n",
    "    average_time = latestBlockTimestamp - timestamp\n",
    "    if average_time < 0: raise ValueError('timestamp given by you exceed current block timestamp!')\n",
    "    average_block = average_time / getAverageBlockTime(w3)\n",
    "\n",
    "    return int(w3.eth.block_number - average_block)\n",
    "\n",
    "hours_24_ago = datetime.utcnow().timestamp() - 24 * 60 * 60\n",
    "print(hours_24_ago) #1644892963.530618\n",
    "\n",
    "block_24_ago = getBlockByTimestamp(w3, hours_24_ago)\n",
    "print(block_24_ago) # Block: 15265950\n",
    "\n",
    "blockInfo = w3.eth.get_block(block_24_ago)\n",
    "print(blockInfo.timestamp) #1644893303"
   ]
  },
  {
   "cell_type": "code",
   "execution_count": 26,
   "metadata": {},
   "outputs": [
    {
     "data": {
      "text/plain": [
       "16161464"
      ]
     },
     "execution_count": 26,
     "metadata": {},
     "output_type": "execute_result"
    }
   ],
   "source": [
    "w3.eth.block_number"
   ]
  }
 ],
 "metadata": {
  "kernelspec": {
   "display_name": "w3f-WQD1s4Uz",
   "language": "python",
   "name": "python3"
  },
  "language_info": {
   "codemirror_mode": {
    "name": "ipython",
    "version": 3
   },
   "file_extension": ".py",
   "mimetype": "text/x-python",
   "name": "python",
   "nbconvert_exporter": "python",
   "pygments_lexer": "ipython3",
   "version": "3.10.0 (tags/v3.10.0:b494f59, Oct  4 2021, 19:00:18) [MSC v.1929 64 bit (AMD64)]"
  },
  "orig_nbformat": 4,
  "vscode": {
   "interpreter": {
    "hash": "e0595ad8a118b7b6f21f5fbff559a1017410532f7d749e343975f4651b2f268f"
   }
  }
 },
 "nbformat": 4,
 "nbformat_minor": 2
}
